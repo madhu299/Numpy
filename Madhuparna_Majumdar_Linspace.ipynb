{
  "nbformat": 4,
  "nbformat_minor": 0,
  "metadata": {
    "colab": {
      "name": "Madhuparna Majumdar - Linspace.ipynb",
      "provenance": [],
      "collapsed_sections": []
    },
    "kernelspec": {
      "name": "python3",
      "display_name": "Python 3"
    }
  },
  "cells": [
    {
      "cell_type": "code",
      "metadata": {
        "id": "IY7L8Alh1eP4",
        "colab_type": "code",
        "colab": {}
      },
      "source": [
        "# Write a function in python that can replicate the working of the Numpy linspace function"
      ],
      "execution_count": 0,
      "outputs": []
    },
    {
      "cell_type": "code",
      "metadata": {
        "id": "0mb82e5t7oF0",
        "colab_type": "code",
        "colab": {}
      },
      "source": [
        "def line(lower_value, upper_value, values_in_range):\n",
        "  a=lower_value\n",
        "  b=upper_value\n",
        "  n=values_in_range\n",
        "  count=a \n",
        "  c=(b-a)/(n-1)\n",
        "  while count<=b:\n",
        "    print('%0.8f'%count)\n",
        "    count=count+c"
      ],
      "execution_count": 0,
      "outputs": []
    },
    {
      "cell_type": "code",
      "metadata": {
        "id": "49T1mJgxZhNL",
        "colab_type": "code",
        "colab": {
          "base_uri": "https://localhost:8080/",
          "height": 184
        },
        "outputId": "2071e66a-0f83-4fc0-c334-446ac0e6e488"
      },
      "source": [
        "line(20,60,10)"
      ],
      "execution_count": 2,
      "outputs": [
        {
          "output_type": "stream",
          "text": [
            "20.00000000\n",
            "24.44444444\n",
            "28.88888889\n",
            "33.33333333\n",
            "37.77777778\n",
            "42.22222222\n",
            "46.66666667\n",
            "51.11111111\n",
            "55.55555556\n",
            "60.00000000\n"
          ],
          "name": "stdout"
        }
      ]
    },
    {
      "cell_type": "code",
      "metadata": {
        "id": "kOpdqTZCZqbY",
        "colab_type": "code",
        "colab": {
          "base_uri": "https://localhost:8080/",
          "height": 100
        },
        "outputId": "7c4beea5-6539-4602-8e0f-fc1c367458b1"
      },
      "source": [
        "line(10,20,5)"
      ],
      "execution_count": 3,
      "outputs": [
        {
          "output_type": "stream",
          "text": [
            "10.00000000\n",
            "12.50000000\n",
            "15.00000000\n",
            "17.50000000\n",
            "20.00000000\n"
          ],
          "name": "stdout"
        }
      ]
    },
    {
      "cell_type": "code",
      "metadata": {
        "id": "wuXvbxE1Z1WC",
        "colab_type": "code",
        "colab": {}
      },
      "source": [
        ""
      ],
      "execution_count": 0,
      "outputs": []
    }
  ]
}