{
  "nbformat": 4,
  "nbformat_minor": 0,
  "metadata": {
    "colab": {
      "name": "Madhuparna Majumdar - Numpy-assignment-2.ipynb",
      "provenance": [],
      "collapsed_sections": []
    },
    "kernelspec": {
      "name": "python3",
      "display_name": "Python 3"
    }
  },
  "cells": [
    {
      "cell_type": "code",
      "metadata": {
        "id": "31UwBw0bR-7I",
        "colab_type": "code",
        "colab": {}
      },
      "source": [
        "import numpy as np"
      ],
      "execution_count": 0,
      "outputs": []
    },
    {
      "cell_type": "code",
      "metadata": {
        "id": "85it8RniSD1i",
        "colab_type": "code",
        "outputId": "7af26a11-d1a4-4360-9cea-acf737d7a0db",
        "colab": {
          "base_uri": "https://localhost:8080/",
          "height": 158
        }
      },
      "source": [
        "# Setup for questions 1 and 2\n",
        "arr1=np.arange(40).reshape(8,5)\n",
        "arr1"
      ],
      "execution_count": 0,
      "outputs": [
        {
          "output_type": "execute_result",
          "data": {
            "text/plain": [
              "array([[ 0,  1,  2,  3,  4],\n",
              "       [ 5,  6,  7,  8,  9],\n",
              "       [10, 11, 12, 13, 14],\n",
              "       [15, 16, 17, 18, 19],\n",
              "       [20, 21, 22, 23, 24],\n",
              "       [25, 26, 27, 28, 29],\n",
              "       [30, 31, 32, 33, 34],\n",
              "       [35, 36, 37, 38, 39]])"
            ]
          },
          "metadata": {
            "tags": []
          },
          "execution_count": 3
        }
      ]
    },
    {
      "cell_type": "code",
      "metadata": {
        "id": "0Nz1-qSdSOQ_",
        "colab_type": "code",
        "colab": {}
      },
      "source": [
        "# Q1. From arr1 you have to fetch out every alternate column starting from col1"
      ],
      "execution_count": 0,
      "outputs": []
    },
    {
      "cell_type": "code",
      "metadata": {
        "id": "XETlNPR5uY_s",
        "colab_type": "code",
        "outputId": "27978f7a-f572-48fb-d28b-b654c44499b3",
        "colab": {
          "base_uri": "https://localhost:8080/",
          "height": 158
        }
      },
      "source": [
        "# Q1 solution\n",
        "\n",
        "arr1[:,[0,2,4]]"
      ],
      "execution_count": 0,
      "outputs": [
        {
          "output_type": "execute_result",
          "data": {
            "text/plain": [
              "array([[ 0,  2,  4],\n",
              "       [ 5,  7,  9],\n",
              "       [10, 12, 14],\n",
              "       [15, 17, 19],\n",
              "       [20, 22, 24],\n",
              "       [25, 27, 29],\n",
              "       [30, 32, 34],\n",
              "       [35, 37, 39]])"
            ]
          },
          "metadata": {
            "tags": []
          },
          "execution_count": 4
        }
      ]
    },
    {
      "cell_type": "code",
      "metadata": {
        "id": "rwmohc2SScHo",
        "colab_type": "code",
        "colab": {}
      },
      "source": [
        "# Q2. From arr1 fetch an array which would contain {0,2,4} {15,17,19} and {30,32,34} "
      ],
      "execution_count": 0,
      "outputs": []
    },
    {
      "cell_type": "code",
      "metadata": {
        "id": "4xrQNaD3e1if",
        "colab_type": "code",
        "outputId": "1e9777b0-a6d9-4047-cd9a-fad8843b79ac",
        "colab": {
          "base_uri": "https://localhost:8080/",
          "height": 158
        }
      },
      "source": [
        "# Q2 solution\n",
        "\n",
        "ar2=arr1[:,[0,2,4]]\n",
        "ar2"
      ],
      "execution_count": 0,
      "outputs": [
        {
          "output_type": "execute_result",
          "data": {
            "text/plain": [
              "array([[ 0,  2,  4],\n",
              "       [ 5,  7,  9],\n",
              "       [10, 12, 14],\n",
              "       [15, 17, 19],\n",
              "       [20, 22, 24],\n",
              "       [25, 27, 29],\n",
              "       [30, 32, 34],\n",
              "       [35, 37, 39]])"
            ]
          },
          "metadata": {
            "tags": []
          },
          "execution_count": 7
        }
      ]
    },
    {
      "cell_type": "code",
      "metadata": {
        "id": "cbRRcRc8xhkN",
        "colab_type": "code",
        "outputId": "17f2ab2a-9d98-4879-e56e-ab28a1d0cd84",
        "colab": {
          "base_uri": "https://localhost:8080/",
          "height": 70
        }
      },
      "source": [
        "ar2[[0,3,6],:]"
      ],
      "execution_count": 0,
      "outputs": [
        {
          "output_type": "execute_result",
          "data": {
            "text/plain": [
              "array([[ 0,  2,  4],\n",
              "       [15, 17, 19],\n",
              "       [30, 32, 34]])"
            ]
          },
          "metadata": {
            "tags": []
          },
          "execution_count": 8
        }
      ]
    },
    {
      "cell_type": "code",
      "metadata": {
        "id": "r1gU_dQ4SsH7",
        "colab_type": "code",
        "outputId": "b37684ed-4005-4832-bfd8-80823053d44e",
        "colab": {
          "base_uri": "https://localhost:8080/",
          "height": 52
        }
      },
      "source": [
        "# Setup for question\n",
        "\n",
        "# Generating a random numpy array of intergers ranging between 1 and 100\n",
        "\n",
        "arr2=np.random.randint(low=1, high=10000, size=10).reshape(2,5)\n",
        "arr2"
      ],
      "execution_count": 0,
      "outputs": [
        {
          "output_type": "execute_result",
          "data": {
            "text/plain": [
              "array([[4750, 9071, 1388, 3896,  338],\n",
              "       [8336, 3388, 9609, 3673, 9776]])"
            ]
          },
          "metadata": {
            "tags": []
          },
          "execution_count": 38
        }
      ]
    },
    {
      "cell_type": "markdown",
      "metadata": {
        "id": "VL_SIR70U2So",
        "colab_type": "text"
      },
      "source": [
        " **Normalization** rescales the values into a range of [0,1]. This might be useful in some cases where all parameters need to have the same positive scale. You have to do this a lot in machine learning for eg you are working with 2 cols, one is total runs scored by a batsman(in the scale of 1000s), and the second is number of matches played by him(in the scale of 10s). The formula for normalization is given below\n",
        "\n",
        " Xchanged=(X−Xmin)/(Xmax−Xmin)"
      ]
    },
    {
      "cell_type": "code",
      "metadata": {
        "id": "TI_idHqkUz48",
        "colab_type": "code",
        "colab": {}
      },
      "source": [
        "# Q3. Write a code to normalize arr2."
      ],
      "execution_count": 0,
      "outputs": []
    },
    {
      "cell_type": "code",
      "metadata": {
        "id": "Eoc4G81sBms1",
        "colab_type": "code",
        "outputId": "60b0abc9-5da5-4570-9316-67b05e1a68a2",
        "colab": {
          "base_uri": "https://localhost:8080/",
          "height": 52
        }
      },
      "source": [
        "Xmax= arr2.max()\n",
        "Xmin= arr2.min()\n",
        "Xnew= (arr2-Xmin)/(Xmax-Xmin)\n",
        "Xnew"
      ],
      "execution_count": 0,
      "outputs": [
        {
          "output_type": "execute_result",
          "data": {
            "text/plain": [
              "array([[0.46747192, 0.92530197, 0.11125238, 0.37698665, 0.        ],\n",
              "       [0.8474253 , 0.32316169, 0.98230557, 0.35335876, 1.        ]])"
            ]
          },
          "metadata": {
            "tags": []
          },
          "execution_count": 40
        }
      ]
    },
    {
      "cell_type": "code",
      "metadata": {
        "id": "GXcTZro_VXd_",
        "colab_type": "code",
        "outputId": "c4a3018d-c8f8-4ceb-acab-dc38f7fc9042",
        "colab": {
          "base_uri": "https://localhost:8080/",
          "height": 35
        }
      },
      "source": [
        "np.percentile(arr1,25)"
      ],
      "execution_count": 0,
      "outputs": [
        {
          "output_type": "execute_result",
          "data": {
            "text/plain": [
              "9.75"
            ]
          },
          "metadata": {
            "tags": []
          },
          "execution_count": 12
        }
      ]
    },
    {
      "cell_type": "code",
      "metadata": {
        "id": "jzgUb2rxWTJ1",
        "colab_type": "code",
        "colab": {}
      },
      "source": [
        ""
      ],
      "execution_count": 0,
      "outputs": []
    },
    {
      "cell_type": "markdown",
      "metadata": {
        "id": "cAKDoNdmW473",
        "colab_type": "text"
      },
      "source": [
        "Missing values are a pain in the a**(sorry for language). But yes trust me."
      ]
    },
    {
      "cell_type": "code",
      "metadata": {
        "id": "SV9DLiXaWz9b",
        "colab_type": "code",
        "colab": {}
      },
      "source": [
        "# Q4. How would you check if your numpy array has some missing values?\n",
        "\n",
        "# Hint: Thoda research karo numpy me existing functions hai"
      ],
      "execution_count": 0,
      "outputs": []
    },
    {
      "cell_type": "code",
      "metadata": {
        "id": "2gZoJZWsL_e5",
        "colab_type": "code",
        "colab": {}
      },
      "source": [
        "# Q4 Solution"
      ],
      "execution_count": 0,
      "outputs": []
    },
    {
      "cell_type": "markdown",
      "metadata": {
        "id": "JTJQGg3ULPNH",
        "colab_type": "text"
      },
      "source": [
        "For checking missing values or any Nan values in numpy array, we can use the numpy function isnan.\n",
        "\n",
        "given below is an example of using isnan in numpy array:"
      ]
    },
    {
      "cell_type": "code",
      "metadata": {
        "id": "J6Zh4fo6Gh7r",
        "colab_type": "code",
        "outputId": "a94fd37e-74d8-4bc6-95c5-6e9a2ef2a946",
        "colab": {
          "base_uri": "https://localhost:8080/",
          "height": 34
        }
      },
      "source": [
        "a = np.array(range(5,30,2))\n",
        "a"
      ],
      "execution_count": 0,
      "outputs": [
        {
          "output_type": "execute_result",
          "data": {
            "text/plain": [
              "array([ 5,  7,  9, 11, 13, 15, 17, 19, 21, 23, 25, 27, 29])"
            ]
          },
          "metadata": {
            "tags": []
          },
          "execution_count": 59
        }
      ]
    },
    {
      "cell_type": "code",
      "metadata": {
        "id": "DXkeigkFGklv",
        "colab_type": "code",
        "outputId": "38f6112d-ab87-4b23-bee1-ee1aac7214b5",
        "colab": {
          "base_uri": "https://localhost:8080/",
          "height": 52
        }
      },
      "source": [
        "x = np.isnan(a)\n",
        "x                         "
      ],
      "execution_count": 0,
      "outputs": [
        {
          "output_type": "execute_result",
          "data": {
            "text/plain": [
              "array([False, False, False, False, False, False, False, False, False,\n",
              "       False, False, False, False])"
            ]
          },
          "metadata": {
            "tags": []
          },
          "execution_count": 62
        }
      ]
    },
    {
      "cell_type": "code",
      "metadata": {
        "id": "bIok9RICMfsZ",
        "colab_type": "code",
        "outputId": "fc0a091b-bdad-41cd-886d-6ed4bc7f23fe",
        "colab": {
          "base_uri": "https://localhost:8080/",
          "height": 52
        }
      },
      "source": [
        "b = np.append(a,np.nan)\n",
        "b"
      ],
      "execution_count": 0,
      "outputs": [
        {
          "output_type": "execute_result",
          "data": {
            "text/plain": [
              "array([ 5.,  7.,  9., 11., 13., 15., 17., 19., 21., 23., 25., 27., 29.,\n",
              "       nan])"
            ]
          },
          "metadata": {
            "tags": []
          },
          "execution_count": 63
        }
      ]
    },
    {
      "cell_type": "code",
      "metadata": {
        "id": "Xb0xmO5WGpfY",
        "colab_type": "code",
        "outputId": "d76fedeb-55d4-41bc-c244-18479b7898da",
        "colab": {
          "base_uri": "https://localhost:8080/",
          "height": 52
        }
      },
      "source": [
        "y=np.isnan(b)\n",
        "y                   "
      ],
      "execution_count": 0,
      "outputs": [
        {
          "output_type": "execute_result",
          "data": {
            "text/plain": [
              "array([False, False, False, False, False, False, False, False, False,\n",
              "       False, False, False, False,  True])"
            ]
          },
          "metadata": {
            "tags": []
          },
          "execution_count": 65
        }
      ]
    },
    {
      "cell_type": "markdown",
      "metadata": {
        "id": "gQ4xbOQQM6BH",
        "colab_type": "text"
      },
      "source": [
        "Here we can see in the example, for array b, that isnan returns a boolean array in the same shape as the input data, with a value of 'True' indicating that the value at that point in the array is a nan.\n",
        "\n",
        "In array a there is no empty or nan values, so isnan returns a boolean array in the same shape , but with no values as True."
      ]
    },
    {
      "cell_type": "code",
      "metadata": {
        "id": "WWo9EXndXLrP",
        "colab_type": "code",
        "colab": {}
      },
      "source": [
        "# Q5. Write a function which will accept 2 arguments.\n",
        "# First: A 1D numpy array arr\n",
        "# Second: An integer n {Please make sure n<=len(arr)}\n",
        "\n",
        "# Output: The output should be the nth largest item out of the array\n",
        "\n",
        "# Example1 : arr=(12,34,40,7,1,0) and n=3, the output should be 12\n",
        "# Example2 : arr=(12,34,40,7,1,0) and n=1, the output should be 40"
      ],
      "execution_count": 0,
      "outputs": []
    },
    {
      "cell_type": "code",
      "metadata": {
        "id": "aOeEUd1LYRIF",
        "colab_type": "code",
        "colab": {}
      },
      "source": [
        "# Q5 Solution\n",
        "\n",
        "def large_func(arr,n):\n",
        "  if 0<n<=len(arr):\n",
        "    print(np.sort(arr)[-n])\n",
        "  else:\n",
        "    print(\"Put the 2nd value correctly in the range of 1 to length of array \")\n",
        "\n"
      ],
      "execution_count": 0,
      "outputs": []
    },
    {
      "cell_type": "code",
      "metadata": {
        "id": "JDiAO_PK49Zj",
        "colab_type": "code",
        "outputId": "72b38c69-cd3f-4aac-8b1d-91807cda128a",
        "colab": {
          "base_uri": "https://localhost:8080/",
          "height": 34
        }
      },
      "source": [
        "#outputs:\n",
        "\n",
        "large_func((12,34,40,7,1,0),3)"
      ],
      "execution_count": 0,
      "outputs": [
        {
          "output_type": "stream",
          "text": [
            "12\n"
          ],
          "name": "stdout"
        }
      ]
    },
    {
      "cell_type": "code",
      "metadata": {
        "id": "2LGMg0LQ6yhW",
        "colab_type": "code",
        "outputId": "50a5b65d-3919-4046-a069-cc39a73bd626",
        "colab": {
          "base_uri": "https://localhost:8080/",
          "height": 34
        }
      },
      "source": [
        "large_func((12,34,40,7,1,0),1)"
      ],
      "execution_count": 0,
      "outputs": [
        {
          "output_type": "stream",
          "text": [
            "40\n"
          ],
          "name": "stdout"
        }
      ]
    },
    {
      "cell_type": "code",
      "metadata": {
        "id": "MqtwYHs47C9R",
        "colab_type": "code",
        "outputId": "d7dfbb0b-0cd0-4589-a90f-87a74676ae50",
        "colab": {
          "base_uri": "https://localhost:8080/",
          "height": 34
        }
      },
      "source": [
        "large_func((12,34,40,7,1,0),-2)"
      ],
      "execution_count": 0,
      "outputs": [
        {
          "output_type": "stream",
          "text": [
            "Put the 2nd value correctly in the range of 1 to length of array \n"
          ],
          "name": "stdout"
        }
      ]
    },
    {
      "cell_type": "code",
      "metadata": {
        "id": "fOw-slB67fYz",
        "colab_type": "code",
        "outputId": "f4ec9ad5-9791-49c3-c0da-dbbb55ab1a16",
        "colab": {
          "base_uri": "https://localhost:8080/",
          "height": 34
        }
      },
      "source": [
        "large_func((12,34,40,7,1,0),30)"
      ],
      "execution_count": 0,
      "outputs": [
        {
          "output_type": "stream",
          "text": [
            "Put the 2nd value correctly in the range of 1 to length of array \n"
          ],
          "name": "stdout"
        }
      ]
    },
    {
      "cell_type": "code",
      "metadata": {
        "id": "foucOcw-7jtX",
        "colab_type": "code",
        "outputId": "13555c30-75ef-462e-9f1a-70cdfe76dce0",
        "colab": {
          "base_uri": "https://localhost:8080/",
          "height": 34
        }
      },
      "source": [
        "large_func((22,7,19,75,50,0,2),2)"
      ],
      "execution_count": 0,
      "outputs": [
        {
          "output_type": "stream",
          "text": [
            "50\n"
          ],
          "name": "stdout"
        }
      ]
    },
    {
      "cell_type": "code",
      "metadata": {
        "id": "i3pl38hy7uS6",
        "colab_type": "code",
        "colab": {}
      },
      "source": [
        ""
      ],
      "execution_count": 0,
      "outputs": []
    }
  ]
}